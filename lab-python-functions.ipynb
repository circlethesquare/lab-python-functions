{
 "cells": [
  {
   "cell_type": "markdown",
   "id": "25d7736c-ba17-4aff-b6bb-66eba20fbf4e",
   "metadata": {},
   "source": [
    "# Lab | Functions"
   ]
  },
  {
   "cell_type": "markdown",
   "id": "0c581062-8967-4d93-b06e-62833222f930",
   "metadata": {
    "tags": []
   },
   "source": [
    "## Exercise: Managing Customer Orders with Functions\n",
    "\n",
    "In the previous exercise, you improved the code for managing customer orders by using loops and flow control. Now, let's take it a step further and refactor the code by introducing functions.\n",
    "\n",
    "Follow the steps below to complete the exercise:\n",
    "\n",
    "1. Define a function named `initialize_inventory` that takes `products` as a parameter. Inside the function, implement the code for initializing the inventory dictionary using a loop and user input.\n",
    "\n",
    "2. Define a function named `get_customer_orders` that takes no parameters. Inside the function, implement the code for prompting the user to enter the product names using a loop. The function should return the `customer_orders` set.\n",
    "\n",
    "3. Define a function named `update_inventory` that takes `customer_orders` and `inventory` as parameters. Inside the function, implement the code for updating the inventory dictionary based on the customer orders.\n",
    "\n",
    "4. Define a function named `calculate_order_statistics` that takes `customer_orders` and `products` as parameters. Inside the function, implement the code for calculating the order statistics (total products ordered, and percentage of unique products ordered). The function should return these values.\n",
    "\n",
    "5. Define a function named `print_order_statistics` that takes `order_statistics` as a parameter. Inside the function, implement the code for printing the order statistics.\n",
    "\n",
    "6. Define a function named `print_updated_inventory` that takes `inventory` as a parameter. Inside the function, implement the code for printing the updated inventory.\n",
    "\n",
    "7. Call the functions in the appropriate sequence to execute the program and manage customer orders.\n",
    "\n",
    "Hints for functions:\n",
    "\n",
    "- Consider the input parameters required for each function and their return values.\n",
    "- Utilize function parameters and return values to transfer data between functions.\n",
    "- Test your functions individually to ensure they work correctly.\n",
    "\n",
    "\n"
   ]
  },
  {
   "cell_type": "code",
   "execution_count": null,
   "id": "39ae70ee",
   "metadata": {},
   "outputs": [],
   "source": [
    "products = [\"t-shirt\", \"mug\", \"hat\", \"book\", \"keychain\"]\n",
    "inventory = {}\n",
    "customer_orders = set()\n",
    "def initialize_inventory(products):\n",
    "    \n",
    "    \n",
    "    \"\"\"funtion loops the products to collect the quantitiy and adds\n",
    "    item:quantitiy in inventory dictionary\"\"\"\n",
    "    \n",
    "    try:\n",
    "        for item in products:\n",
    "            quantity = int(input(f\"Please enter the quantity of {item}: \"))\n",
    "            inventory[item] = quantity \n",
    "        print(f\"inventory : {inventory}\")\n",
    "            \n",
    "    except ValueError:\n",
    "            print(f\"Please enter a numerical value for {item}\")\n",
    "            initialize_inventory(products)\n",
    "            \n",
    "initialize_inventory(products)  "
   ]
  },
  {
   "cell_type": "code",
   "execution_count": null,
   "id": "8d0fc532",
   "metadata": {},
   "outputs": [],
   "source": [
    "def get_customer_orders():\n",
    "        order = input(\"Please select a product t-shirt, mug, hat, book, keychain:\")\n",
    "        if order in products:\n",
    "            customer_orders.add(order)\n",
    "        else: \n",
    "            print(f\"The product {order} does not exist\")\n",
    "        answer = input(\"Do you want to order another product? Yes/No \").lower()\n",
    "        try:\n",
    "            if answer == \"Yes\".lower():\n",
    "                    get_customer_orders()\n",
    "            elif answer == \"No\".lower():\n",
    "                print(\"Thanks for your order!\")\n",
    "        except NameError:\n",
    "            print(\"Please select Yes/No\")\n",
    "            \n",
    "        print(customer_orders)\n",
    "        \n",
    "get_customer_orders()"
   ]
  },
  {
   "cell_type": "code",
   "execution_count": null,
   "id": "405063f2",
   "metadata": {},
   "outputs": [],
   "source": [
    "#3        \n",
    "def update_inventory(customer_orders, inventory):\n",
    "    \n",
    "        inventory = {item : quantity- for (item, quantitiy) in inventory if item in customer_orders }\n",
    "        print (inventory)"
   ]
  },
  {
   "cell_type": "code",
   "execution_count": 23,
   "id": "4dd27c85",
   "metadata": {},
   "outputs": [],
   "source": [
    "#4\n",
    "def calculate_order_statistics (customer_orders, products):\n",
    "    print(order_statistics)"
   ]
  },
  {
   "cell_type": "code",
   "execution_count": 24,
   "id": "88e8edd3",
   "metadata": {},
   "outputs": [
    {
     "name": "stdout",
     "output_type": "stream",
     "text": [
      "{'t-shirt': 87, 'mug': 88, 'hat': 88, 'book': 99, 'keychain': 999}\n"
     ]
    }
   ],
   "source": [
    "#5\n",
    "def print_order_statistics(order_statistics): \n",
    "     print(order_statistics)"
   ]
  },
  {
   "cell_type": "code",
   "execution_count": 25,
   "id": "307293b0",
   "metadata": {},
   "outputs": [],
   "source": [
    "#6\n",
    "def print_updated_inventory(inventory):\n",
    "    print(inventory)"
   ]
  },
  {
   "cell_type": "code",
   "execution_count": null,
   "id": "5cd81fc5",
   "metadata": {},
   "outputs": [],
   "source": []
  },
  {
   "cell_type": "code",
   "execution_count": null,
   "id": "879fbd99",
   "metadata": {},
   "outputs": [],
   "source": []
  },
  {
   "cell_type": "code",
   "execution_count": null,
   "id": "bedbe369",
   "metadata": {},
   "outputs": [],
   "source": []
  },
  {
   "cell_type": "code",
   "execution_count": null,
   "id": "a2c97bb7",
   "metadata": {},
   "outputs": [],
   "source": []
  },
  {
   "cell_type": "code",
   "execution_count": null,
   "id": "c5396d57",
   "metadata": {},
   "outputs": [],
   "source": []
  },
  {
   "cell_type": "code",
   "execution_count": null,
   "id": "23712a9d",
   "metadata": {},
   "outputs": [],
   "source": []
  }
 ],
 "metadata": {
  "kernelspec": {
   "display_name": "Python 3 (ipykernel)",
   "language": "python",
   "name": "python3"
  },
  "language_info": {
   "codemirror_mode": {
    "name": "ipython",
    "version": 3
   },
   "file_extension": ".py",
   "mimetype": "text/x-python",
   "name": "python",
   "nbconvert_exporter": "python",
   "pygments_lexer": "ipython3",
   "version": "3.11.5"
  }
 },
 "nbformat": 4,
 "nbformat_minor": 5
}
